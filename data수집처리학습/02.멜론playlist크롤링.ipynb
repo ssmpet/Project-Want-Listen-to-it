{
 "cells": [
  {
   "cell_type": "code",
   "execution_count": 2,
   "metadata": {},
   "outputs": [],
   "source": [
    "import pandas as pd\n",
    "\n",
    "from bs4 import BeautifulSoup\n",
    "from selenium import webdriver\n",
    "\n",
    "import time\n",
    "from tqdm import tqdm\n",
    "\n",
    "import warnings\n",
    "warnings.filterwarnings('ignore')\n",
    "\n",
    "import os\n",
    "driver_pathname =  os.environ['HOMEDRIVE'] + os.environ['HOMEPATH'] + '\\\\Downloads\\\\chromedriver_win32\\\\chromedriver.exe'\n"
   ]
  },
  {
   "attachments": {},
   "cell_type": "markdown",
   "metadata": {},
   "source": [
    "### 멜론 플레이리스트 인기 테마 / 인기 장르 \n",
    "- 메인 Tag URL : https://www.melon.com/dj/tag/djtaghub_list.htm?tagSeq=43#params%5BtagSeq%5D=43&params%5BorderBy%5D=POP&po=pageObj&startIndex=1\n",
    "- PlayListURL : https://www.melon.com/mymusic/dj/mymusicdjplaylistview_inform.htm?plylstSeq=리스트ID\n"
   ]
  },
  {
   "attachments": {},
   "cell_type": "markdown",
   "metadata": {},
   "source": [
    "##### 1. 인기테마/장르 별로 플레이리스트 ID가 저장된 파일을 불러온다."
   ]
  },
  {
   "cell_type": "code",
   "execution_count": 3,
   "metadata": {},
   "outputs": [
    {
     "name": "stdout",
     "output_type": "stream",
     "text": [
      "(45, 2)\n"
     ]
    },
    {
     "data": {
      "text/html": [
       "<div>\n",
       "<style scoped>\n",
       "    .dataframe tbody tr th:only-of-type {\n",
       "        vertical-align: middle;\n",
       "    }\n",
       "\n",
       "    .dataframe tbody tr th {\n",
       "        vertical-align: top;\n",
       "    }\n",
       "\n",
       "    .dataframe thead th {\n",
       "        text-align: right;\n",
       "    }\n",
       "</style>\n",
       "<table border=\"1\" class=\"dataframe\">\n",
       "  <thead>\n",
       "    <tr style=\"text-align: right;\">\n",
       "      <th></th>\n",
       "      <th>tag_name</th>\n",
       "      <th>id</th>\n",
       "    </tr>\n",
       "  </thead>\n",
       "  <tbody>\n",
       "    <tr>\n",
       "      <th>0</th>\n",
       "      <td>가을</td>\n",
       "      <td>2</td>\n",
       "    </tr>\n",
       "    <tr>\n",
       "      <th>1</th>\n",
       "      <td>기분전환</td>\n",
       "      <td>3</td>\n",
       "    </tr>\n",
       "    <tr>\n",
       "      <th>2</th>\n",
       "      <td>휴식</td>\n",
       "      <td>4</td>\n",
       "    </tr>\n",
       "    <tr>\n",
       "      <th>3</th>\n",
       "      <td>힐링</td>\n",
       "      <td>5</td>\n",
       "    </tr>\n",
       "    <tr>\n",
       "      <th>4</th>\n",
       "      <td>사랑</td>\n",
       "      <td>6</td>\n",
       "    </tr>\n",
       "  </tbody>\n",
       "</table>\n",
       "</div>"
      ],
      "text/plain": [
       "  tag_name  id\n",
       "0       가을   2\n",
       "1     기분전환   3\n",
       "2       휴식   4\n",
       "3       힐링   5\n",
       "4       사랑   6"
      ]
     },
     "execution_count": 3,
     "metadata": {},
     "output_type": "execute_result"
    }
   ],
   "source": [
    "df = pd.read_csv('data/멜론테그번호.CSV', encoding='euc-kr')\n",
    "print(df.shape)\n",
    "df.head()"
   ]
  },
  {
   "attachments": {},
   "cell_type": "markdown",
   "metadata": {},
   "source": [
    "##### 2. 해당 ID별로 리스트 목록을 가지고 와서 각각(10페이지) 50개 내의 노래 리스트만 가지고온다."
   ]
  },
  {
   "cell_type": "code",
   "execution_count": 4,
   "metadata": {},
   "outputs": [],
   "source": [
    "tag_list = df.id.values\n",
    "# 메인 tag URL\n",
    "tag_url1 = 'https://www.melon.com/dj/tag/djtaghub_list.htm?tagSeq='\n",
    "tag_url2 = '#params%5BtagSeq%5D='\n",
    "tag_url3 = '&params%5BorderBy%5D=POP&po=pageObj&startIndex='\n",
    "# PlayList URL\n",
    "playlist_url = 'https://www.melon.com/mymusic/dj/mymusicdjplaylistview_inform.htm?plylstSeq='"
   ]
  },
  {
   "cell_type": "code",
   "execution_count": null,
   "metadata": {},
   "outputs": [],
   "source": [
    "plist1, plist2 = [], []\n",
    "\n",
    "is_plist = []\n",
    "\n",
    "driver = webdriver.Chrome(driver_pathname)\n",
    "\n",
    "for i in tqdm(tag_list[:1]):\n",
    "\n",
    "    \n",
    "    for k in range(1, 182, 20):\n",
    "\n",
    "        try : \n",
    "            driver.get(f'{tag_url1}{i}{tag_url2}{i}{tag_url3}{k}')\n",
    "            time.sleep(2)\n",
    "\n",
    "            soup = BeautifulSoup(driver.page_source, 'html.parser')\n",
    "            lis = soup.select('.service_list_play.d_djcol_list > ul > li > div > a')\n",
    "            plist = [li['href'].split(',')[-1][1:-3] for li in lis]\n",
    "\n",
    "            for pli in plist:\n",
    "\n",
    "                if pli in is_plist:\n",
    "                    continue\n",
    "\n",
    "                is_plist.append(pli)\n",
    "\n",
    "                # print(playlist_url + pli)\n",
    "                driver.get(playlist_url + pli)\n",
    "                time.sleep(1)\n",
    "\n",
    "                soup = BeautifulSoup(driver.page_source, 'html.parser')\n",
    "\n",
    "                # plist1에 들어갈 요소들\n",
    "                title = soup.select_one('.ellipsis.song_name').text.strip()\n",
    "                # print(title)\n",
    "                tag = soup.select_one('.tag_list.type03').text.replace('\\n', ' ')\n",
    "                like = int(soup.select_one('.cnt').text.split()[-1].replace(',', '').strip())\n",
    "                \n",
    "                trs = soup.select('.service_list_song.d_song_list > table > tbody > tr' )\n",
    "                song_ids = []\n",
    "                # plist2에 들어갈 요소들\n",
    "                for tr in trs:\n",
    "                    \n",
    "                    if tr.select_one('.bullet_icons.age_19') :  # 19금 제외\n",
    "                        continue\n",
    "\n",
    "                    img = tr.select_one('img')['src']\n",
    "\n",
    "                    tmp = tr.select_one('.rank01 > span > a')\n",
    "                    s_id = tmp['href'].split(',')[-1][:-2]\n",
    "                    song_ids.append(s_id)\n",
    "\n",
    "                    s_title = tmp.text.strip()\n",
    "                    s_artist = tr.select_one('.rank02 > span').text\n",
    "                    s_album = tr.select_one('.rank03 > a').text\n",
    "\n",
    "                    plist2.append({'plylstSeq': pli, 'songId': s_id, 'title': s_title, 'artist': s_artist, 'img': img})\n",
    "                \n",
    "                plist1.append({'plylstSeq': pli, 'title': title, 'tag': tag, 'like':like, 'songIds': ' '.join(song_ids)})\n",
    "        except:\n",
    "            continue\n",
    "\n",
    "df1 = pd.DataFrame(plist1)\n",
    "df2 = pd.DataFrame(plist2)\n",
    "\n",
    "print(df1.shape, df2.shape)\n",
    "\n",
    "driver.close()\n"
   ]
  },
  {
   "cell_type": "code",
   "execution_count": 6,
   "metadata": {},
   "outputs": [
    {
     "data": {
      "text/plain": [
       "(5533, 5533, 213574, 88523)"
      ]
     },
     "execution_count": 6,
     "metadata": {},
     "output_type": "execute_result"
    }
   ],
   "source": [
    "df1.shape[0], df1.plylstSeq.nunique()"
   ]
  },
  {
   "cell_type": "code",
   "execution_count": 8,
   "metadata": {},
   "outputs": [],
   "source": [
    "# 노래 저장\n",
    "df1.to_csv('data/playlist1.csv', index=False)\n",
    "df2.to_csv('data/playlist2.csv', index=False)"
   ]
  },
  {
   "cell_type": "code",
   "execution_count": 9,
   "metadata": {},
   "outputs": [
    {
     "data": {
      "text/plain": [
       "(5533, 5533, 213574, 88523)"
      ]
     },
     "execution_count": 9,
     "metadata": {},
     "output_type": "execute_result"
    }
   ],
   "source": [
    "df1.shape[0], df1.plylstSeq.nunique(), df2.shape[0], df2.songId.nunique()"
   ]
  },
  {
   "cell_type": "code",
   "execution_count": 10,
   "metadata": {},
   "outputs": [
    {
     "data": {
      "text/html": [
       "<div>\n",
       "<style scoped>\n",
       "    .dataframe tbody tr th:only-of-type {\n",
       "        vertical-align: middle;\n",
       "    }\n",
       "\n",
       "    .dataframe tbody tr th {\n",
       "        vertical-align: top;\n",
       "    }\n",
       "\n",
       "    .dataframe thead th {\n",
       "        text-align: right;\n",
       "    }\n",
       "</style>\n",
       "<table border=\"1\" class=\"dataframe\">\n",
       "  <thead>\n",
       "    <tr style=\"text-align: right;\">\n",
       "      <th></th>\n",
       "      <th>plylstSeq</th>\n",
       "      <th>title</th>\n",
       "      <th>tag</th>\n",
       "      <th>like</th>\n",
       "      <th>songIds</th>\n",
       "    </tr>\n",
       "  </thead>\n",
       "  <tbody>\n",
       "    <tr>\n",
       "      <th>0</th>\n",
       "      <td>516301214</td>\n",
       "      <td>빙글빙글 낭만이 물들어가는, LP판 느낌의 감성팝</td>\n",
       "      <td>#낭만 #감성 #LP #힐링 #휴식 #사랑 #분위기 #가을 #추억 #팝</td>\n",
       "      <td>400</td>\n",
       "      <td>33880688 36359244 36148918 35576427 33664280 3...</td>\n",
       "    </tr>\n",
       "    <tr>\n",
       "      <th>1</th>\n",
       "      <td>523235480</td>\n",
       "      <td>IVE 멤버들의 추천곡들</td>\n",
       "      <td>#IVE #아이브 #이서 #원영 #레이 #유진 #리즈 #가을</td>\n",
       "      <td>683</td>\n",
       "      <td>33213267 32544401 33502105 33469725 32464068 3...</td>\n",
       "    </tr>\n",
       "    <tr>\n",
       "      <th>2</th>\n",
       "      <td>523324194</td>\n",
       "      <td>가을에 듣는 곡들 ༄</td>\n",
       "      <td>#가을 #단풍 #낙엽 #고독 #뉴진스 #아이브 #르세라핌 #NewJeans #IV...</td>\n",
       "      <td>673</td>\n",
       "      <td>354198 5406681 33618864 2425149 4252725 306695...</td>\n",
       "    </tr>\n",
       "    <tr>\n",
       "      <th>3</th>\n",
       "      <td>523237139</td>\n",
       "      <td>2023 2 11 아이브 첫 콘서트</td>\n",
       "      <td>#IVE #아이브 #이서 #원영 #헤이 #유진 #리즈 #가을</td>\n",
       "      <td>690</td>\n",
       "      <td>36356992 36356993 36356994 36356995 36356996 3...</td>\n",
       "    </tr>\n",
       "    <tr>\n",
       "      <th>4</th>\n",
       "      <td>505785411</td>\n",
       "      <td>도입부 3초만에 바로 반해버린 인생 팝송 ①</td>\n",
       "      <td>#기분전환 #도입부 #인생곡 #신나는 #감성 #취향저격 #힐링 #휴식 #드라이브 ...</td>\n",
       "      <td>1995</td>\n",
       "      <td>31371068 33507852 33235605 31249458 5490888 31...</td>\n",
       "    </tr>\n",
       "  </tbody>\n",
       "</table>\n",
       "</div>"
      ],
      "text/plain": [
       "   plylstSeq                        title  \\\n",
       "0  516301214  빙글빙글 낭만이 물들어가는, LP판 느낌의 감성팝   \n",
       "1  523235480                IVE 멤버들의 추천곡들   \n",
       "2  523324194                  가을에 듣는 곡들 ༄   \n",
       "3  523237139          2023 2 11 아이브 첫 콘서트   \n",
       "4  505785411     도입부 3초만에 바로 반해버린 인생 팝송 ①   \n",
       "\n",
       "                                                 tag  like  \\\n",
       "0           #낭만 #감성 #LP #힐링 #휴식 #사랑 #분위기 #가을 #추억 #팝    400   \n",
       "1                 #IVE #아이브 #이서 #원영 #레이 #유진 #리즈 #가을    683   \n",
       "2   #가을 #단풍 #낙엽 #고독 #뉴진스 #아이브 #르세라핌 #NewJeans #IV...   673   \n",
       "3                 #IVE #아이브 #이서 #원영 #헤이 #유진 #리즈 #가을    690   \n",
       "4   #기분전환 #도입부 #인생곡 #신나는 #감성 #취향저격 #힐링 #휴식 #드라이브 ...  1995   \n",
       "\n",
       "                                             songIds  \n",
       "0  33880688 36359244 36148918 35576427 33664280 3...  \n",
       "1  33213267 32544401 33502105 33469725 32464068 3...  \n",
       "2  354198 5406681 33618864 2425149 4252725 306695...  \n",
       "3  36356992 36356993 36356994 36356995 36356996 3...  \n",
       "4  31371068 33507852 33235605 31249458 5490888 31...  "
      ]
     },
     "execution_count": 10,
     "metadata": {},
     "output_type": "execute_result"
    }
   ],
   "source": [
    "df1.head()"
   ]
  },
  {
   "cell_type": "code",
   "execution_count": 11,
   "metadata": {},
   "outputs": [
    {
     "data": {
      "text/html": [
       "<div>\n",
       "<style scoped>\n",
       "    .dataframe tbody tr th:only-of-type {\n",
       "        vertical-align: middle;\n",
       "    }\n",
       "\n",
       "    .dataframe tbody tr th {\n",
       "        vertical-align: top;\n",
       "    }\n",
       "\n",
       "    .dataframe thead th {\n",
       "        text-align: right;\n",
       "    }\n",
       "</style>\n",
       "<table border=\"1\" class=\"dataframe\">\n",
       "  <thead>\n",
       "    <tr style=\"text-align: right;\">\n",
       "      <th></th>\n",
       "      <th>plylstSeq</th>\n",
       "      <th>title</th>\n",
       "      <th>tag</th>\n",
       "      <th>like</th>\n",
       "      <th>songIds</th>\n",
       "    </tr>\n",
       "  </thead>\n",
       "  <tbody>\n",
       "    <tr>\n",
       "      <th>0</th>\n",
       "      <td>516301214</td>\n",
       "      <td>빙글빙글 낭만이 물들어가는, LP판 느낌의 감성팝</td>\n",
       "      <td>#낭만 #감성 #LP #힐링 #휴식 #사랑 #분위기 #가을 #추억 #팝</td>\n",
       "      <td>400</td>\n",
       "      <td>33880688 36359244 36148918 35576427 33664280 3...</td>\n",
       "    </tr>\n",
       "  </tbody>\n",
       "</table>\n",
       "</div>"
      ],
      "text/plain": [
       "   plylstSeq                        title  \\\n",
       "0  516301214  빙글빙글 낭만이 물들어가는, LP판 느낌의 감성팝   \n",
       "\n",
       "                                         tag  like  \\\n",
       "0   #낭만 #감성 #LP #힐링 #휴식 #사랑 #분위기 #가을 #추억 #팝    400   \n",
       "\n",
       "                                             songIds  \n",
       "0  33880688 36359244 36148918 35576427 33664280 3...  "
      ]
     },
     "execution_count": 11,
     "metadata": {},
     "output_type": "execute_result"
    }
   ],
   "source": [
    "df1[df1.plylstSeq == '516301214']"
   ]
  },
  {
   "cell_type": "code",
   "execution_count": 12,
   "metadata": {},
   "outputs": [
    {
     "data": {
      "text/html": [
       "<div>\n",
       "<style scoped>\n",
       "    .dataframe tbody tr th:only-of-type {\n",
       "        vertical-align: middle;\n",
       "    }\n",
       "\n",
       "    .dataframe tbody tr th {\n",
       "        vertical-align: top;\n",
       "    }\n",
       "\n",
       "    .dataframe thead th {\n",
       "        text-align: right;\n",
       "    }\n",
       "</style>\n",
       "<table border=\"1\" class=\"dataframe\">\n",
       "  <thead>\n",
       "    <tr style=\"text-align: right;\">\n",
       "      <th></th>\n",
       "      <th>plylstSeq</th>\n",
       "      <th>songId</th>\n",
       "      <th>title</th>\n",
       "      <th>artist</th>\n",
       "      <th>img</th>\n",
       "    </tr>\n",
       "  </thead>\n",
       "  <tbody>\n",
       "    <tr>\n",
       "      <th>0</th>\n",
       "      <td>516301214</td>\n",
       "      <td>33880688</td>\n",
       "      <td>Until I Found You</td>\n",
       "      <td>Stephen Sanchez</td>\n",
       "      <td>https://cdnimg.melon.co.kr/cm2/album/images/10...</td>\n",
       "    </tr>\n",
       "    <tr>\n",
       "      <th>1</th>\n",
       "      <td>516301214</td>\n",
       "      <td>36359244</td>\n",
       "      <td>Sleep Well</td>\n",
       "      <td>d4vd</td>\n",
       "      <td>https://cdnimg.melon.co.kr/cm2/album/images/11...</td>\n",
       "    </tr>\n",
       "    <tr>\n",
       "      <th>2</th>\n",
       "      <td>516301214</td>\n",
       "      <td>36148918</td>\n",
       "      <td>3 Boys</td>\n",
       "      <td>Omar Apollo</td>\n",
       "      <td>https://cdnimg.melon.co.kr/cm2/album/images/11...</td>\n",
       "    </tr>\n",
       "    <tr>\n",
       "      <th>3</th>\n",
       "      <td>516301214</td>\n",
       "      <td>35576427</td>\n",
       "      <td>THANK YOU 4 LOVIN’ ME</td>\n",
       "      <td>Paul Partohap</td>\n",
       "      <td>https://cdnimg.melon.co.kr/cm2/album/images/11...</td>\n",
       "    </tr>\n",
       "    <tr>\n",
       "      <th>4</th>\n",
       "      <td>516301214</td>\n",
       "      <td>33664280</td>\n",
       "      <td>This Could Be</td>\n",
       "      <td>Joel Ansett</td>\n",
       "      <td>https://cdnimg.melon.co.kr/cm2/album/images/10...</td>\n",
       "    </tr>\n",
       "  </tbody>\n",
       "</table>\n",
       "</div>"
      ],
      "text/plain": [
       "   plylstSeq    songId                  title           artist  \\\n",
       "0  516301214  33880688      Until I Found You  Stephen Sanchez   \n",
       "1  516301214  36359244             Sleep Well             d4vd   \n",
       "2  516301214  36148918                 3 Boys      Omar Apollo   \n",
       "3  516301214  35576427  THANK YOU 4 LOVIN’ ME    Paul Partohap   \n",
       "4  516301214  33664280          This Could Be      Joel Ansett   \n",
       "\n",
       "                                                 img  \n",
       "0  https://cdnimg.melon.co.kr/cm2/album/images/10...  \n",
       "1  https://cdnimg.melon.co.kr/cm2/album/images/11...  \n",
       "2  https://cdnimg.melon.co.kr/cm2/album/images/11...  \n",
       "3  https://cdnimg.melon.co.kr/cm2/album/images/11...  \n",
       "4  https://cdnimg.melon.co.kr/cm2/album/images/10...  "
      ]
     },
     "execution_count": 12,
     "metadata": {},
     "output_type": "execute_result"
    }
   ],
   "source": [
    "df2.head()"
   ]
  },
  {
   "cell_type": "code",
   "execution_count": 13,
   "metadata": {},
   "outputs": [
    {
     "data": {
      "text/html": [
       "<div>\n",
       "<style scoped>\n",
       "    .dataframe tbody tr th:only-of-type {\n",
       "        vertical-align: middle;\n",
       "    }\n",
       "\n",
       "    .dataframe tbody tr th {\n",
       "        vertical-align: top;\n",
       "    }\n",
       "\n",
       "    .dataframe thead th {\n",
       "        text-align: right;\n",
       "    }\n",
       "</style>\n",
       "<table border=\"1\" class=\"dataframe\">\n",
       "  <thead>\n",
       "    <tr style=\"text-align: right;\">\n",
       "      <th></th>\n",
       "      <th>plylstSeq</th>\n",
       "      <th>songId</th>\n",
       "      <th>title</th>\n",
       "      <th>artist</th>\n",
       "      <th>img</th>\n",
       "    </tr>\n",
       "  </thead>\n",
       "  <tbody>\n",
       "    <tr>\n",
       "      <th>0</th>\n",
       "      <td>516301214</td>\n",
       "      <td>33880688</td>\n",
       "      <td>Until I Found You</td>\n",
       "      <td>Stephen Sanchez</td>\n",
       "      <td>https://cdnimg.melon.co.kr/cm2/album/images/10...</td>\n",
       "    </tr>\n",
       "    <tr>\n",
       "      <th>4920</th>\n",
       "      <td>514262614</td>\n",
       "      <td>33880688</td>\n",
       "      <td>Until I Found You</td>\n",
       "      <td>Stephen Sanchez</td>\n",
       "      <td>https://cdnimg.melon.co.kr/cm2/album/images/10...</td>\n",
       "    </tr>\n",
       "    <tr>\n",
       "      <th>17144</th>\n",
       "      <td>524842683</td>\n",
       "      <td>33880688</td>\n",
       "      <td>Until I Found You</td>\n",
       "      <td>Stephen Sanchez</td>\n",
       "      <td>https://cdnimg.melon.co.kr/cm2/album/images/10...</td>\n",
       "    </tr>\n",
       "    <tr>\n",
       "      <th>29523</th>\n",
       "      <td>510360636</td>\n",
       "      <td>33880688</td>\n",
       "      <td>Until I Found You</td>\n",
       "      <td>Stephen Sanchez</td>\n",
       "      <td>https://cdnimg.melon.co.kr/cm2/album/images/10...</td>\n",
       "    </tr>\n",
       "    <tr>\n",
       "      <th>34529</th>\n",
       "      <td>521816273</td>\n",
       "      <td>33880688</td>\n",
       "      <td>Until I Found You</td>\n",
       "      <td>Stephen Sanchez</td>\n",
       "      <td>https://cdnimg.melon.co.kr/cm2/album/images/10...</td>\n",
       "    </tr>\n",
       "    <tr>\n",
       "      <th>60872</th>\n",
       "      <td>430409937</td>\n",
       "      <td>33880688</td>\n",
       "      <td>Until I Found You</td>\n",
       "      <td>Stephen Sanchez</td>\n",
       "      <td>https://cdnimg.melon.co.kr/cm2/album/images/10...</td>\n",
       "    </tr>\n",
       "    <tr>\n",
       "      <th>87769</th>\n",
       "      <td>479943248</td>\n",
       "      <td>33880688</td>\n",
       "      <td>Until I Found You</td>\n",
       "      <td>Stephen Sanchez</td>\n",
       "      <td>https://cdnimg.melon.co.kr/cm2/album/images/10...</td>\n",
       "    </tr>\n",
       "    <tr>\n",
       "      <th>92826</th>\n",
       "      <td>507278368</td>\n",
       "      <td>33880688</td>\n",
       "      <td>Until I Found You</td>\n",
       "      <td>Stephen Sanchez</td>\n",
       "      <td>https://cdnimg.melon.co.kr/cm2/album/images/10...</td>\n",
       "    </tr>\n",
       "    <tr>\n",
       "      <th>118303</th>\n",
       "      <td>430073106</td>\n",
       "      <td>33880688</td>\n",
       "      <td>Until I Found You</td>\n",
       "      <td>Stephen Sanchez</td>\n",
       "      <td>https://cdnimg.melon.co.kr/cm2/album/images/10...</td>\n",
       "    </tr>\n",
       "    <tr>\n",
       "      <th>168414</th>\n",
       "      <td>485993460</td>\n",
       "      <td>33880688</td>\n",
       "      <td>Until I Found You</td>\n",
       "      <td>Stephen Sanchez</td>\n",
       "      <td>https://cdnimg.melon.co.kr/cm2/album/images/10...</td>\n",
       "    </tr>\n",
       "    <tr>\n",
       "      <th>183446</th>\n",
       "      <td>522686739</td>\n",
       "      <td>33880688</td>\n",
       "      <td>Until I Found You</td>\n",
       "      <td>Stephen Sanchez</td>\n",
       "      <td>https://cdnimg.melon.co.kr/cm2/album/images/10...</td>\n",
       "    </tr>\n",
       "    <tr>\n",
       "      <th>184045</th>\n",
       "      <td>468144064</td>\n",
       "      <td>33880688</td>\n",
       "      <td>Until I Found You</td>\n",
       "      <td>Stephen Sanchez</td>\n",
       "      <td>https://cdnimg.melon.co.kr/cm2/album/images/10...</td>\n",
       "    </tr>\n",
       "    <tr>\n",
       "      <th>186776</th>\n",
       "      <td>517400732</td>\n",
       "      <td>33880688</td>\n",
       "      <td>Until I Found You</td>\n",
       "      <td>Stephen Sanchez</td>\n",
       "      <td>https://cdnimg.melon.co.kr/cm2/album/images/10...</td>\n",
       "    </tr>\n",
       "    <tr>\n",
       "      <th>200340</th>\n",
       "      <td>512393450</td>\n",
       "      <td>33880688</td>\n",
       "      <td>Until I Found You</td>\n",
       "      <td>Stephen Sanchez</td>\n",
       "      <td>https://cdnimg.melon.co.kr/cm2/album/images/10...</td>\n",
       "    </tr>\n",
       "    <tr>\n",
       "      <th>207826</th>\n",
       "      <td>521767002</td>\n",
       "      <td>33880688</td>\n",
       "      <td>Until I Found You</td>\n",
       "      <td>Stephen Sanchez</td>\n",
       "      <td>https://cdnimg.melon.co.kr/cm2/album/images/10...</td>\n",
       "    </tr>\n",
       "  </tbody>\n",
       "</table>\n",
       "</div>"
      ],
      "text/plain": [
       "        plylstSeq    songId              title           artist  \\\n",
       "0       516301214  33880688  Until I Found You  Stephen Sanchez   \n",
       "4920    514262614  33880688  Until I Found You  Stephen Sanchez   \n",
       "17144   524842683  33880688  Until I Found You  Stephen Sanchez   \n",
       "29523   510360636  33880688  Until I Found You  Stephen Sanchez   \n",
       "34529   521816273  33880688  Until I Found You  Stephen Sanchez   \n",
       "60872   430409937  33880688  Until I Found You  Stephen Sanchez   \n",
       "87769   479943248  33880688  Until I Found You  Stephen Sanchez   \n",
       "92826   507278368  33880688  Until I Found You  Stephen Sanchez   \n",
       "118303  430073106  33880688  Until I Found You  Stephen Sanchez   \n",
       "168414  485993460  33880688  Until I Found You  Stephen Sanchez   \n",
       "183446  522686739  33880688  Until I Found You  Stephen Sanchez   \n",
       "184045  468144064  33880688  Until I Found You  Stephen Sanchez   \n",
       "186776  517400732  33880688  Until I Found You  Stephen Sanchez   \n",
       "200340  512393450  33880688  Until I Found You  Stephen Sanchez   \n",
       "207826  521767002  33880688  Until I Found You  Stephen Sanchez   \n",
       "\n",
       "                                                      img  \n",
       "0       https://cdnimg.melon.co.kr/cm2/album/images/10...  \n",
       "4920    https://cdnimg.melon.co.kr/cm2/album/images/10...  \n",
       "17144   https://cdnimg.melon.co.kr/cm2/album/images/10...  \n",
       "29523   https://cdnimg.melon.co.kr/cm2/album/images/10...  \n",
       "34529   https://cdnimg.melon.co.kr/cm2/album/images/10...  \n",
       "60872   https://cdnimg.melon.co.kr/cm2/album/images/10...  \n",
       "87769   https://cdnimg.melon.co.kr/cm2/album/images/10...  \n",
       "92826   https://cdnimg.melon.co.kr/cm2/album/images/10...  \n",
       "118303  https://cdnimg.melon.co.kr/cm2/album/images/10...  \n",
       "168414  https://cdnimg.melon.co.kr/cm2/album/images/10...  \n",
       "183446  https://cdnimg.melon.co.kr/cm2/album/images/10...  \n",
       "184045  https://cdnimg.melon.co.kr/cm2/album/images/10...  \n",
       "186776  https://cdnimg.melon.co.kr/cm2/album/images/10...  \n",
       "200340  https://cdnimg.melon.co.kr/cm2/album/images/10...  \n",
       "207826  https://cdnimg.melon.co.kr/cm2/album/images/10...  "
      ]
     },
     "execution_count": 13,
     "metadata": {},
     "output_type": "execute_result"
    }
   ],
   "source": [
    "df2[df2.songId == '33880688']"
   ]
  },
  {
   "attachments": {},
   "cell_type": "markdown",
   "metadata": {},
   "source": [
    "##### 4. 데이터 중복 제거"
   ]
  },
  {
   "cell_type": "code",
   "execution_count": null,
   "metadata": {},
   "outputs": [],
   "source": [
    "# 중복 없음.\n"
   ]
  },
  {
   "attachments": {},
   "cell_type": "markdown",
   "metadata": {},
   "source": [
    "##### 5. PlaylistID를 알 때 크롤링"
   ]
  },
  {
   "cell_type": "code",
   "execution_count": 6,
   "metadata": {},
   "outputs": [],
   "source": [
    "# 테스트 용\n",
    "# 두 파일에서 PlayListID를 알아온다.\n",
    "ply_list = '522906239 482975847'.split()"
   ]
  },
  {
   "cell_type": "code",
   "execution_count": null,
   "metadata": {},
   "outputs": [],
   "source": [
    "plist1, plist2 = [], []\n",
    "\n",
    "driver = webdriver.Chrome(driver_pathname)\n",
    "\n",
    "for ply in ply_list:\n",
    "    \n",
    "    driver.get(playlist_url + ply)\n",
    "    time.sleep(1)\n",
    "\n",
    "    soup = BeautifulSoup(driver.page_source, 'html.parser')\n",
    "\n",
    "    # plist1에 들어갈 요소들\n",
    "    title = soup.select_one('.ellipsis.song_name').text.strip()\n",
    "    tag = soup.select_one('.tag_list.type03').text.replace('\\n', ' ')\n",
    "    like = int(soup.select_one('.cnt').text.split()[-1].replace(',', '').strip())\n",
    "    \n",
    "    trs = soup.select('.service_list_song.d_song_list > table > tbody > tr' )\n",
    "    song_ids = []\n",
    "    # plist2에 들어갈 요소들\n",
    "    for tr in trs:\n",
    "        \n",
    "        if tr.select_one('.bullet_icons.age_19') :  # 19금 제외\n",
    "            continue\n",
    "\n",
    "        img = tr.select_one('img')['src']\n",
    "\n",
    "        tmp = tr.select_one('.rank01 > span > a')\n",
    "        s_id = tmp['href'].split(',')[-1][:-2]\n",
    "        song_ids.append(s_id)\n",
    "\n",
    "        s_title = tmp.text.strip()\n",
    "        # print(s_title)\n",
    "        s_artist = tr.select_one('.rank02 > span').text\n",
    "\n",
    "        plist2.append({'plylstSeq': ply, 'songId': s_id, 'title': s_title, 'artist': s_artist, 'img': img})\n",
    "\n",
    "    plist1.append({'plylstSeq': ply, 'title': title, 'tag': tag, 'like': like, 'songIds': ' '.join(song_ids)})\n",
    "\n",
    "driver.close()"
   ]
  },
  {
   "cell_type": "code",
   "execution_count": 12,
   "metadata": {},
   "outputs": [],
   "source": [
    "df1 = pd.DataFrame(plist1)\n",
    "df2 = pd.DataFrame(plist2)"
   ]
  },
  {
   "cell_type": "code",
   "execution_count": 16,
   "metadata": {},
   "outputs": [],
   "source": [
    "df2.to_csv('data/test.csv')"
   ]
  },
  {
   "cell_type": "code",
   "execution_count": 17,
   "metadata": {},
   "outputs": [],
   "source": [
    "df2 = pd.read_csv('data/test.csv')"
   ]
  },
  {
   "cell_type": "code",
   "execution_count": 18,
   "metadata": {},
   "outputs": [
    {
     "data": {
      "text/plain": [
       "Unnamed: 0    0\n",
       "plylstSeq     0\n",
       "songId        0\n",
       "title         1\n",
       "artist        0\n",
       "img           0\n",
       "dtype: int64"
      ]
     },
     "execution_count": 18,
     "metadata": {},
     "output_type": "execute_result"
    }
   ],
   "source": [
    "df2.isna().sum()"
   ]
  },
  {
   "cell_type": "code",
   "execution_count": 20,
   "metadata": {},
   "outputs": [
    {
     "data": {
      "text/html": [
       "<div>\n",
       "<style scoped>\n",
       "    .dataframe tbody tr th:only-of-type {\n",
       "        vertical-align: middle;\n",
       "    }\n",
       "\n",
       "    .dataframe tbody tr th {\n",
       "        vertical-align: top;\n",
       "    }\n",
       "\n",
       "    .dataframe thead th {\n",
       "        text-align: right;\n",
       "    }\n",
       "</style>\n",
       "<table border=\"1\" class=\"dataframe\">\n",
       "  <thead>\n",
       "    <tr style=\"text-align: right;\">\n",
       "      <th></th>\n",
       "      <th>Unnamed: 0</th>\n",
       "      <th>plylstSeq</th>\n",
       "      <th>songId</th>\n",
       "      <th>title</th>\n",
       "      <th>artist</th>\n",
       "      <th>img</th>\n",
       "    </tr>\n",
       "  </thead>\n",
       "  <tbody>\n",
       "    <tr>\n",
       "      <th>6</th>\n",
       "      <td>6</td>\n",
       "      <td>522906239</td>\n",
       "      <td>31309400</td>\n",
       "      <td>NaN</td>\n",
       "      <td>주영</td>\n",
       "      <td>https://cdnimg.melon.co.kr/cm/album/images/102...</td>\n",
       "    </tr>\n",
       "  </tbody>\n",
       "</table>\n",
       "</div>"
      ],
      "text/plain": [
       "   Unnamed: 0  plylstSeq    songId title artist  \\\n",
       "6           6  522906239  31309400   NaN     주영   \n",
       "\n",
       "                                                 img  \n",
       "6  https://cdnimg.melon.co.kr/cm/album/images/102...  "
      ]
     },
     "execution_count": 20,
     "metadata": {},
     "output_type": "execute_result"
    }
   ],
   "source": [
    "df2[df2.title.isna()]"
   ]
  }
 ],
 "metadata": {
  "kernelspec": {
   "display_name": "base",
   "language": "python",
   "name": "python3"
  },
  "language_info": {
   "codemirror_mode": {
    "name": "ipython",
    "version": 3
   },
   "file_extension": ".py",
   "mimetype": "text/x-python",
   "name": "python",
   "nbconvert_exporter": "python",
   "pygments_lexer": "ipython3",
   "version": "3.10.10"
  },
  "orig_nbformat": 4
 },
 "nbformat": 4,
 "nbformat_minor": 2
}
