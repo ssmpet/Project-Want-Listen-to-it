{
 "cells": [
  {
   "attachments": {},
   "cell_type": "markdown",
   "metadata": {},
   "source": [
    "### 크롤링 테스트"
   ]
  },
  {
   "cell_type": "code",
   "execution_count": 20,
   "metadata": {},
   "outputs": [],
   "source": [
    "import pandas as pd\n",
    "import time\n",
    "from bs4 import BeautifulSoup\n",
    "from selenium import webdriver\n",
    "\n",
    "import warnings\n",
    "warnings.filterwarnings('ignore')\n",
    "\n",
    "import os\n",
    "driver_name =  os.environ['HOMEDRIVE'] + os.environ['HOMEPATH'] + '\\\\Downloads\\\\chromedriver_win32\\\\chromedriver.exe'"
   ]
  },
  {
   "attachments": {},
   "cell_type": "markdown",
   "metadata": {},
   "source": [
    "##### 1. 멜론에서 크롤링 해보기"
   ]
  },
  {
   "attachments": {},
   "cell_type": "markdown",
   "metadata": {},
   "source": [
    "##### 1). 2012년도 목록 가져오기"
   ]
  },
  {
   "cell_type": "code",
   "execution_count": 23,
   "metadata": {},
   "outputs": [
    {
     "name": "stdout",
     "output_type": "stream",
     "text": [
      "50\n"
     ]
    }
   ],
   "source": [
    "url = 'https://www.melon.com/chart/age/index.htm?chartType=YE&chartGenre=KPOP&chartDate=2012'\n",
    "\n",
    "driver = webdriver.Chrome(driver_name)\n",
    "driver.get(url)\n",
    "time.sleep(2)\n",
    "\n",
    "soup = BeautifulSoup(driver.page_source, 'html.parser')\n",
    "trs = soup.select('.tb_list.type02.d_song_list > form > table > tbody > tr.lst50')\n",
    "print(len(trs))\n",
    "lines = []\n",
    "for tr in trs:\n",
    "    lines.append(tr.select_one('td.t_left > div > a')['onclick'].split('\\'')[1])"
   ]
  },
  {
   "attachments": {},
   "cell_type": "markdown",
   "metadata": {},
   "source": [
    "##### 2). 각 노래에 대해 가사 가져와보기"
   ]
  },
  {
   "cell_type": "code",
   "execution_count": null,
   "metadata": {},
   "outputs": [],
   "source": [
    "base_url = 'https://www.melon.com/song/detail.htm?songId='\n",
    "\n",
    "for line in lines:\n",
    "    driver.get(base_url+line)\n",
    "    time.sleep(1)\n",
    "\n",
    "    soup = BeautifulSoup(driver.page_source, 'html.parser')\n",
    "    print(soup.select_one('#d_video_summary').text)\n",
    "\n"
   ]
  },
  {
   "attachments": {},
   "cell_type": "markdown",
   "metadata": {},
   "source": [
    "##### 2. 해당 노래해 대해 여러가지 가져와 보기"
   ]
  },
  {
   "cell_type": "code",
   "execution_count": null,
   "metadata": {},
   "outputs": [],
   "source": [
    "base_url = 'https://www.melon.com/song/detail.htm?songId=1046278'\n",
    "\n",
    "driver = webdriver.Chrome(driver_name)\n",
    "driver.get(base_url)\n",
    "time.sleep(2)\n",
    "\n",
    "soup = BeautifulSoup(driver.page_source, 'html.parser')\n",
    "info = soup.select_one('#conts')\n",
    "\n",
    "# print(str(soup.select_one('#d_video_summary')))\n",
    "# print(soup.select_one('#d_video_summary').text)\n",
    "# 가사 경우 경우의 수가 많았음.\n",
    "# lyric = str(info.select_one('#d_video_summary')).split('\\t\\t\\t\\t\\t\\t\\t')[-1].replace('<br/>', '\\n').split('</div>')[0].strip()\n",
    "lyric = str(info.select_one('#d_video_summary')).split('\\n')[-2].replace('\\t', '').replace('<br/>', '\\n').strip().replace(',', '')\n",
    "\n",
    "# lyric = str(soup.select_one('#d_video_summary'))\n",
    "# lyric = str(soup.select_one('.wrap_lyric > div'))\n",
    "print(lyric)\n",
    "\n",
    "buttons = info.select('.d_djcol_list > ul > li > .thumb > a ')\n",
    "plylstSeq = ''\n",
    "plylstSeq = ' '.join([button['href'].split(',\\'')[-1][:-3] for button in buttons])\n",
    "print(plylstSeq)\n",
    "\n",
    "\n"
   ]
  },
  {
   "cell_type": "code",
   "execution_count": 43,
   "metadata": {},
   "outputs": [
    {
     "data": {
      "text/plain": [
       "\"[' height:auto; 로 변경시, 확장됨 ', '\\\\n\\\\t\\\\t\\\\t\\\\t\\\\t\\\\t\\\\t생각이 많은 건 말이야', <br/>, '당연히 해야 할 일이야', <br/>, '나에겐 우리가 지금 1순위야', <br/>, '안전한 유리병을 핑계로', <br/>, '바람을 가둬 둔 것 같지만', <br/>, <br/>, '기억나? 그날의 우리가', <br/>, '잡았던 그 손엔 말이야', <br/>, '설레임보다 커다란 믿음이 담겨서', <br/>, '난 함박웃음을 지었지만', <br/>, '울음이 날 것도 같았어', <br/>, '소중한 건 언제나 두려움이니까', <br/>, <br/>, '문을 열면 들리던 목소리', <br/>, '너로 인해 변해있던 따뜻한 공기', <br/>, '여전히 자신 없지만 안녕히', <br/>, <br/>, '저기, 사라진 별의 자리', <br/>, '아스라이 하얀 빛', <br/>, '한동안은 꺼내 볼 수 있을 거야', <br/>, '아낌없이 반짝인 시간은', <br/>, '조금씩 옅어져 가더라도', <br/>, '너와 내 맘에 살아 숨 쉴 테니', <br/>, <br/>, <br/>, '여긴, 서로의 끝이 아닌', <br/>, '새로운 길 모퉁이', <br/>, '익숙함에 진심을 속이지 말자', <br/>, '하나 둘 추억이 떠오르면', <br/>, '많이 많이 그리워할 거야', <br/>, '고마웠어요 그래도 이제는', <br/>, '사건의 지평선 너머로', <br/>, <br/>, '솔직히 두렵기도 하지만', <br/>, '노력은 우리에게 정답이 아니라서', <br/>, '마지막 선물은 산뜻한 안녕', <br/>, <br/>, '저기, 사라진 별의 자리', <br/>, '아스라이 하얀 빛', <br/>, '한동안은 꺼내 볼 수 있을 거야', <br/>, '아낌없이 반짝인 시간은', <br/>, '조금씩 옅어져 가더라도', <br/>, '너와 내 맘에 살아 숨 쉴 테니', <br/>, <br/>, '여긴, 서로의 끝이 아닌', <br/>, '새로운 길 모퉁이', <br/>, '익숙함에 진심을 속이지 말자 ', <br/>, '하나 둘 추억이 떠오르면', <br/>, '많이 많이 그리워할 거야', <br/>, '고마웠어요 그래도 이제는', <br/>, '사건의 지평선 너머로', <br/>, <br/>, '저기, 사라진 별의 자리', <br/>, '아스라이 하얀 빛', <br/>, '한동안은 꺼내 볼 수 있을 거야', <br/>, '아낌없이 반짝인 시간은', <br/>, '조금씩 옅어져 가더라도', <br/>, '너와 내 맘에 살아 숨 쉴 테니', <br/>, <br/>, '여긴, 서로의 끝이 아닌', <br/>, '새로운 길 모퉁이', <br/>, '익숙함에 진심을 속이지 말자 ', <br/>, '하나 둘 추억이 떠오르면', <br/>, '많이 많이 그리워할 거야', <br/>, '고마웠어요 그래도 이제는', <br/>, '사건의 지평선 너머로', <br/>, <br/>, '사건의 지평선 너머로\\\\n\\\\t\\\\t\\\\t\\\\t\\\\t']\""
      ]
     },
     "execution_count": 43,
     "metadata": {},
     "output_type": "execute_result"
    }
   ],
   "source": [
    "lyric"
   ]
  }
 ],
 "metadata": {
  "kernelspec": {
   "display_name": "base",
   "language": "python",
   "name": "python3"
  },
  "language_info": {
   "codemirror_mode": {
    "name": "ipython",
    "version": 3
   },
   "file_extension": ".py",
   "mimetype": "text/x-python",
   "name": "python",
   "nbconvert_exporter": "python",
   "pygments_lexer": "ipython3",
   "version": "3.10.10"
  },
  "orig_nbformat": 4
 },
 "nbformat": 4,
 "nbformat_minor": 2
}
